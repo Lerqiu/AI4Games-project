{
 "cells": [
  {
   "cell_type": "markdown",
   "metadata": {},
   "source": [
    "### Generate island elevation using compression\n",
    "1. Generate combination of perlin noises (experiment with amplitude and frequency)\n",
    "2. Make noise that sets island boundaries (perlin probably won't work)\n",
    "3. Compress water region and uplift land outlying from water\n",
    "4. Develop frame of moisture (from random noise and distance from water)\n",
    "5. Map moisture and height to biome\n",
    "\n",
    "If the effect would be pretty good I thinking about 3D presentation."
   ]
  }
 ],
 "metadata": {
  "language_info": {
   "name": "python"
  },
  "orig_nbformat": 4
 },
 "nbformat": 4,
 "nbformat_minor": 2
}

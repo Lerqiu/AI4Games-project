{
 "cells": [
  {
   "cell_type": "code",
   "execution_count": 1,
   "metadata": {},
   "outputs": [],
   "source": [
    "import numpy as np\n",
    "from engine import Noise\n",
    "from noises import simplex, perlin, worley, heat, smooth"
   ]
  },
  {
   "cell_type": "code",
   "execution_count": 2,
   "metadata": {},
   "outputs": [
    {
     "data": {
      "application/vnd.jupyter.widget-view+json": {
       "model_id": "c6ffcd2031654aa88fbd35a2626bcba3",
       "version_major": 2,
       "version_minor": 0
      },
      "text/plain": [
       "interactive(children=(IntSlider(value=25, description='distance', max=50, min=1, step=3), IntSlider(value=25, …"
      ]
     },
     "metadata": {},
     "output_type": "display_data"
    }
   ],
   "source": [
    "# Simplified perlin noise\n",
    "Noise(smooth, distance = (1, 50, 3), resolution = (1, 50, 1), cbar = True)"
   ]
  },
  {
   "cell_type": "code",
   "execution_count": 3,
   "metadata": {},
   "outputs": [
    {
     "data": {
      "application/vnd.jupyter.widget-view+json": {
       "model_id": "b6885768e709436aa77f82c38ab4c8ec",
       "version_major": 2,
       "version_minor": 0
      },
      "text/plain": [
       "interactive(children=(IntSlider(value=255, description='resolution', max=500, min=10, step=5), IntSlider(value…"
      ]
     },
     "metadata": {},
     "output_type": "display_data"
    }
   ],
   "source": [
    "# Set n to 1 for beauty and 2 for fireworks :)\n",
    "Noise(worley, resolution=(10, 500, 5), points=(2, 100), n=(1, 3), scale=1.5, cmap='Spectral')"
   ]
  },
  {
   "cell_type": "code",
   "execution_count": 4,
   "metadata": {},
   "outputs": [
    {
     "data": {
      "application/vnd.jupyter.widget-view+json": {
       "model_id": "b1dd88331ac04552b59b7ca408c983f3",
       "version_major": 2,
       "version_minor": 0
      },
      "text/plain": [
       "interactive(children=(IntSlider(value=300, description='resolution', max=600), IntSlider(value=15, description…"
      ]
     },
     "metadata": {},
     "output_type": "display_data"
    }
   ],
   "source": [
    "# Generate heat from (x,y) origin. Note: heat may be negative\n",
    "Noise(heat,\n",
    "\tresolution=(0, 600),\n",
    "\ttemperature = (0, 30),\n",
    "\tx = (0, 300),\n",
    "\ty = (0, 300),\n",
    "\tcbar = True, cmap = 'coolwarm')"
   ]
  },
  {
   "cell_type": "code",
   "execution_count": 5,
   "metadata": {},
   "outputs": [
    {
     "data": {
      "application/vnd.jupyter.widget-view+json": {
       "model_id": "ce7fbd832c154dac9a73de707c65ef64",
       "version_major": 2,
       "version_minor": 0
      },
      "text/plain": [
       "interactive(children=(IntSlider(value=500, description='resolution', max=1000, min=1), IntSlider(value=8, desc…"
      ]
     },
     "metadata": {},
     "output_type": "display_data"
    }
   ],
   "source": [
    "# Perlin noise sample\n",
    "Noise(perlin,\n",
    "\tresolution = (1, 1000),\n",
    "\toctaves = 8,\n",
    "\tpersistence = 5.0,\n",
    "\tlacunarity = 0.5,\n",
    "\tseed = (-1000, 1000))"
   ]
  },
  {
   "cell_type": "code",
   "execution_count": 6,
   "metadata": {},
   "outputs": [
    {
     "data": {
      "application/vnd.jupyter.widget-view+json": {
       "model_id": "b1b679c7d3e24614ad87a80e0fd03431",
       "version_major": 2,
       "version_minor": 0
      },
      "text/plain": [
       "interactive(children=(IntSlider(value=500, description='resolution', max=1000, min=1), IntSlider(value=8, desc…"
      ]
     },
     "metadata": {},
     "output_type": "display_data"
    }
   ],
   "source": [
    "# Simplex noise sample\n",
    "Noise(simplex,\n",
    "\tresolution = (1, 1000),\n",
    "\toctaves = 8,\n",
    "\tpersistence = 5.0,\n",
    "\tlacunarity = 0.5,\n",
    "\tseed = (-1000, 1000))"
   ]
  }
 ],
 "metadata": {
  "interpreter": {
   "hash": "e7370f93d1d0cde622a1f8e1c04877d8463912d04d973331ad4851f04de6915a"
  },
  "kernelspec": {
   "display_name": "Python 3.9.9 64-bit",
   "language": "python",
   "name": "python3"
  },
  "language_info": {
   "codemirror_mode": {
    "name": "ipython",
    "version": 3
   },
   "file_extension": ".py",
   "mimetype": "text/x-python",
   "name": "python",
   "nbconvert_exporter": "python",
   "pygments_lexer": "ipython3",
   "version": "3.9.9"
  },
  "orig_nbformat": 4
 },
 "nbformat": 4,
 "nbformat_minor": 2
}

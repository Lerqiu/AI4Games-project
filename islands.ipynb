{
 "cells": [
  {
   "cell_type": "code",
   "execution_count": 1,
   "metadata": {},
   "outputs": [],
   "source": [
    "import numpy as np\n",
    "from engine import Image, colors\n",
    "from noises import *\n",
    "from utilities import *\n",
    "from matplotlib import pyplot as plt\n",
    "import matplotlib\n",
    "RESOLUTION = 500"
   ]
  },
  {
   "cell_type": "code",
   "execution_count": 8,
   "metadata": {},
   "outputs": [
    {
     "name": "stderr",
     "output_type": "stream",
     "text": [
      "/home/ventus/Desktop/AI4Games-project/engine.py:22: UserWarning: Trying to register the cmap 'peaks' which already exists.\n",
      "  register_cmap(name=name, cmap=cmap)\n"
     ]
    },
    {
     "data": {
      "image/png": "[encoded data removed]",
      "text/html": [
       "<div style=\"vertical-align: middle;\"><strong>peaks</strong> </div><div class=\"cmap\"><img alt=\"peaks colormap\" title=\"peaks\" style=\"border: 1px solid #555;\" src=\"data:image/png;base64,iVBORw0KGgoAAAANSUhEUgAAAgAAAABACAYAAABsv8+/AAAAFHRFWHRUaXRsZQBwZWFrcyBjb2xvcm1hcBaef3UAAAAadEVYdERlc2NyaXB0aW9uAHBlYWtzIGNvbG9ybWFw6MHWkwAAADB0RVh0QXV0aG9yAE1hdHBsb3RsaWIgdjMuNC4zLCBodHRwczovL21hdHBsb3RsaWIub3JnCV3z0wAAADJ0RVh0U29mdHdhcmUATWF0cGxvdGxpYiB2My40LjMsIGh0dHBzOi8vbWF0cGxvdGxpYi5vcmcn+2z0AAABPklEQVR4nO3WsQ2CUAAAUWQVaZnKkGBD4/6BEbTyh9x7E1x5j/39Oie4ge34jE6Ar9bnMjoBfjKPDgAA/s8AAECQAQCAIAMAAEEGAACCDAAABBkAAAgyAAAQZAAAIMgAAECQAQCAIAMAAEEGAACCDAAABBkAAAgyAAAQZAAAIMgAAECQAQCAIAMAAEEGAACCDAAABBkAAAgyAAAQZAAAIMgAAECQAQCAIAMAAEEGAACCDAAABBkAAAgyAAAQZAAAIMgAAECQAQCAIAMAAEEGAACCDAAABBkAAAgyAAAQZAAAIMgAAECQAQCAIAMAAEEGAACCDAAABBkAAAgyAAAQZAAAIMgAAECQAQCAIAMAAEEGAACCDAAABBkAAAgyAAAQZAAAIMgAAECQAQCAIAMAAEEGAACCDAAABBkAAAi6AK2pBG0vn6VMAAAAAElFTkSuQmCC\"></div><div style=\"vertical-align: middle; max-width: 514px; display: flex; justify-content: space-between;\"><div style=\"float: left;\"><div title=\"#686963ff\" style=\"display: inline-block; width: 1em; height: 1em; margin: 0; vertical-align: middle; border: 1px solid #555; background-color: #686963ff;\"></div> under</div><div style=\"margin: 0 auto; display: inline-block;\">bad <div title=\"#00000000\" style=\"display: inline-block; width: 1em; height: 1em; margin: 0; vertical-align: middle; border: 1px solid #555; background-color: #00000000;\"></div></div><div style=\"float: right;\">over <div title=\"#fafafaff\" style=\"display: inline-block; width: 1em; height: 1em; margin: 0; vertical-align: middle; border: 1px solid #555; background-color: #fafafaff;\"></div></div>"
      ],
      "text/plain": [
       "<matplotlib.colors.ListedColormap at 0x7ff4ef089e80>"
      ]
     },
     "execution_count": 8,
     "metadata": {},
     "output_type": "execute_result"
    }
   ],
   "source": [
    "colors(\n",
    "    name=\"peaks\",\n",
    "    colors=[\"#686963\", \"#CDD7D6\", \"#FAFAFA\"]\n",
    ")"
   ]
  },
  {
   "cell_type": "code",
   "execution_count": 7,
   "metadata": {},
   "outputs": [
    {
     "data": {
      "application/vnd.jupyter.widget-view+json": {
       "model_id": "83e0ffcd57434cba951e13c2a92d0e5c",
       "version_major": 2,
       "version_minor": 0
      },
      "text/plain": [
       "interactive(children=(IntSlider(value=50, description='clusters', min=1), FloatSlider(value=0.6000000000000001…"
      ]
     },
     "metadata": {},
     "output_type": "display_data"
    }
   ],
   "source": [
    "continent = norm(simplex(resolution=RESOLUTION, octaves=10, persistence=10.0, lacunarity=-0.03, seed=500))\n",
    "\n",
    "def cut(matrix, threshold = 0):\n",
    "\tmatrix[matrix <= threshold] = 0\n",
    "\treturn matrix\n",
    "\n",
    "def land_mass_distribution(points=2, radius=1, seed=1234):\n",
    "\treturn (-worley(resolution=RESOLUTION, points=points, n=1, seed=seed) + 1) ** radius\n",
    "\n",
    "def land_mass_shape(lacunarity = 0.0, seed = (0, 1000)):\n",
    "\treturn simplex(resolution=RESOLUTION, octaves=4, persistence=2,\n",
    "\tlacunarity=lacunarity + 0.2, seed=seed)\n",
    "\n",
    "def land_mass(clusters = 1, seed=123):\n",
    "\talpha = 1.5\n",
    "\tif clusters == 1:\n",
    "\t\tclusters = continent\n",
    "\telse:\n",
    "\t\tclusters = land_mass_distribution(points=clusters, radius=3+clusters/10, seed=seed)\n",
    "\treturn land_mass_shape(lacunarity=0, seed=seed) + alpha * clusters\n",
    "\n",
    "def border_layer(temperature=20, cutoff=0):\n",
    "\treturn cut(-heat(RESOLUTION, temperature, 250, 250), cutoff)\n",
    "\n",
    "def archipelago(clusters = 1, beaches = 0.6, border = True, land = 0.3, seed = 1000):\n",
    "\tterrain = land_mass(clusters=clusters, seed=seed)-1\n",
    "\tif border:\n",
    "\t\tterrain -= border_layer(20)\n",
    "\t\tbeaches -= 0.1\n",
    "\n",
    "\tterrain += land\n",
    "\treturn norm(np.sign(terrain) * np.abs(terrain)**beaches)\n",
    "\n",
    "def moisture(lacunarity = 0.0, seed = 1000):\n",
    "\treturn simplex(resolution=RESOLUTION, octaves=4, persistence=2,\n",
    "\tlacunarity=lacunarity + 0.2, seed=seed)\n",
    "\n",
    "def islands(clusters = 1, beaches = 0.6, border = True, land = 0.3, mountains = 0.5, seed = 1000):\n",
    "\tlc = Colormap('islands')\n",
    "\tmc = Colormap('forests')\n",
    "\tpc = Colormap('peaks')\n",
    "\t\n",
    "\tres = np.zeros(shape=(RESOLUTION, RESOLUTION, 4))\n",
    "\tmstr = norm(moisture(seed=10000 * np.sin(seed)))\n",
    "\tarch = archipelago(\n",
    "\t\tclusters=clusters,\n",
    "\t\tbeaches=beaches,\n",
    "\t\tland=land,\n",
    "\t\tseed=seed,\n",
    "\t\tborder=border)\n",
    "\n",
    "\t# huge bottleneck :(\n",
    "\tfor x, y in cells(arch):\n",
    "\t\ttile = arch[x, y]\n",
    "\t\tmountain_threshold  = 1 - 0.4*mountains\n",
    "\t\tif tile > mountain_threshold:\n",
    "\t\t\tres[x, y] = pc((tile - mountain_threshold) / (1 - mountain_threshold))\n",
    "\t\telif tile > 0.6:\n",
    "\t\t\tres[x][y] = compose(lc(arch[x, y]), mc(mstr[x, y]), ratio=0.2)\n",
    "\t\telse:\n",
    "\t\t\tres[x][y] = lc(arch[x][y])\n",
    "\treturn res\n",
    "\n",
    "Image(islands, clusters=(1,100), beaches=(0.4, 0.8,0.01), land = 0.0, mountains = (0.0, 1.0), seed=(0, 5000), border=True)"
   ]
  }
 ],
 "metadata": {
  "interpreter": {
   "hash": "e7370f93d1d0cde622a1f8e1c04877d8463912d04d973331ad4851f04de6915a"
  },
  "kernelspec": {
   "display_name": "Python 3.9.9 64-bit",
   "language": "python",
   "name": "python3"
  },
  "language_info": {
   "codemirror_mode": {
    "name": "ipython",
    "version": 3
   },
   "file_extension": ".py",
   "mimetype": "text/x-python",
   "name": "python",
   "nbconvert_exporter": "python",
   "pygments_lexer": "ipython3",
   "version": "3.9.9"
  },
  "orig_nbformat": 4
 },
 "nbformat": 4,
 "nbformat_minor": 2
}
